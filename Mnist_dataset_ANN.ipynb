{
 "cells": [
  {
   "cell_type": "markdown",
   "id": "fe524d91",
   "metadata": {},
   "source": [
    "# Importing libraries"
   ]
  },
  {
   "cell_type": "code",
   "execution_count": 2,
   "id": "1a9844ff",
   "metadata": {},
   "outputs": [],
   "source": [
    "import numpy as np\n",
    "import matplotlib.pyplot as plt\n",
    "import pandas as pd\n",
    "import seaborn as sns\n",
    "sns.set_theme(style='dark')\n",
    "import tensorflow as tf\n",
    "from tensorflow import keras\n",
    "from sklearn.metrics import classification_report"
   ]
  },
  {
   "cell_type": "markdown",
   "id": "810efd77",
   "metadata": {},
   "source": [
    "# Loading the dataset"
   ]
  },
  {
   "cell_type": "code",
   "execution_count": 4,
   "id": "a90a563f",
   "metadata": {},
   "outputs": [
    {
     "name": "stdout",
     "output_type": "stream",
     "text": [
      "Downloading data from https://storage.googleapis.com/tensorflow/tf-keras-datasets/mnist.npz\n",
      "11490434/11490434 [==============================] - 1s 0us/step\n",
      "(60000, 28, 28)\n",
      "(60000,)\n",
      "(10000, 28, 28)\n",
      "(10000,)\n"
     ]
    }
   ],
   "source": [
    "# Loading the dataset\n",
    "(X_train, Y_train), (X_test, Y_test) = keras.datasets.mnist.load_data()\n",
    "\n",
    "# Printing the shape of the arrays\n",
    "print(X_train.shape)\n",
    "print(Y_train.shape)\n",
    "print(X_test.shape)\n",
    "print(Y_test.shape)"
   ]
  },
  {
   "cell_type": "code",
   "execution_count": 5,
   "id": "a0f53881",
   "metadata": {},
   "outputs": [
    {
     "data": {
      "text/plain": [
       "<matplotlib.image.AxesImage at 0x178ffe2f0>"
      ]
     },
     "execution_count": 5,
     "metadata": {},
     "output_type": "execute_result"
    },
    {
     "data": {
      "image/png": "[encoded data removed]",
      "text/plain": [
       "<Figure size 640x480 with 1 Axes>"
      ]
     },
     "metadata": {},
     "output_type": "display_data"
    }
   ],
   "source": [
    "# Displaying image\n",
    "plt.imshow(X_train[5351])"
   ]
  },
  {
   "cell_type": "markdown",
   "id": "f6d58492",
   "metadata": {},
   "source": [
    "# Normalization"
   ]
  },
  {
   "cell_type": "code",
   "execution_count": 4,
   "id": "154f3292",
   "metadata": {},
   "outputs": [],
   "source": [
    "# Normalizing the data and changing dtype to float\n",
    "X_train = X_train.astype('float32')\n",
    "X_test = X_test.astype('float32')\n",
    "X_train /= 255\n",
    "X_test /= 255"
   ]
  },
  {
   "cell_type": "markdown",
   "id": "f4e26610",
   "metadata": {},
   "source": [
    "# Building the CNN model"
   ]
  },
  {
   "cell_type": "code",
   "execution_count": 5,
   "id": "18170f77",
   "metadata": {},
   "outputs": [
    {
     "name": "stdout",
     "output_type": "stream",
     "text": [
      "WARNING:tensorflow:From C:\\Users\\sachi\\anaconda3\\envs\\gpu\\lib\\site-packages\\tensorflow_core\\python\\ops\\resource_variable_ops.py:1630: calling BaseResourceVariable.__init__ (from tensorflow.python.ops.resource_variable_ops) with constraint is deprecated and will be removed in a future version.\n",
      "Instructions for updating:\n",
      "If using Keras pass *_constraint arguments to layers.\n"
     ]
    }
   ],
   "source": [
    "# Adding layers to the model\n",
    "cnn = keras.Sequential([\n",
    "keras.layers.InputLayer(input_shape=(28, 28)),\n",
    "keras.layers.Conv1D(28, kernel_size=2, activation='relu'),\n",
    "keras.layers.MaxPool1D(),\n",
    "keras.layers.Flatten(),\n",
    "keras.layers.Dense(300, activation='relu'),\n",
    "keras.layers.Dense(10, activation='softmax')\n",
    "])"
   ]
  },
  {
   "cell_type": "code",
   "execution_count": null,
   "id": "b47a898a",
   "metadata": {},
   "outputs": [
    {
     "name": "stdout",
     "output_type": "stream",
     "text": [
      "Train on 60000 samples\n",
      "Epoch 1/15000000000000000000\n",
      "60000/60000 [==============================] - 3s 56us/sample - loss: 0.0694 - acc: 0.9795\n",
      "Epoch 2/15000000000000000000\n",
      "60000/60000 [==============================] - 3s 50us/sample - loss: 0.0664 - acc: 0.9803\n",
      "Epoch 3/15000000000000000000\n",
      "60000/60000 [==============================] - 3s 52us/sample - loss: 0.0636 - acc: 0.9809\n",
      "Epoch 4/15000000000000000000\n",
      "60000/60000 [==============================] - 3s 52us/sample - loss: 0.0611 - acc: 0.9814\n",
      "Epoch 5/15000000000000000000\n",
      "60000/60000 [==============================] - 3s 50us/sample - loss: 0.0584 - acc: 0.9827\n",
      "Epoch 6/15000000000000000000\n",
      "60000/60000 [==============================] - 3s 49us/sample - loss: 0.0562 - acc: 0.9828\n",
      "Epoch 7/15000000000000000000\n",
      "60000/60000 [==============================] - 3s 48us/sample - loss: 0.0548 - acc: 0.9836\n",
      "Epoch 8/15000000000000000000\n",
      "60000/60000 [==============================] - 3s 48us/sample - loss: 0.0523 - acc: 0.9846\n",
      "Epoch 9/15000000000000000000\n",
      "60000/60000 [==============================] - 3s 48us/sample - loss: 0.0501 - acc: 0.9849\n",
      "Epoch 10/15000000000000000000\n",
      "60000/60000 [==============================] - 3s 47us/sample - loss: 0.0480 - acc: 0.9857\n",
      "Epoch 11/15000000000000000000\n",
      "60000/60000 [==============================] - 3s 57us/sample - loss: 0.0468 - acc: 0.9863\n",
      "Epoch 12/15000000000000000000\n",
      "60000/60000 [==============================] - 3s 48us/sample - loss: 0.0454 - acc: 0.9867\n",
      "Epoch 13/15000000000000000000\n",
      "60000/60000 [==============================] - 3s 49us/sample - loss: 0.0433 - acc: 0.9872\n",
      "Epoch 14/15000000000000000000\n",
      "60000/60000 [==============================] - 3s 47us/sample - loss: 0.0420 - acc: 0.9873\n",
      "Epoch 15/15000000000000000000\n",
      "60000/60000 [==============================] - 3s 49us/sample - loss: 0.0406 - acc: 0.9885\n",
      "Epoch 16/15000000000000000000\n",
      "60000/60000 [==============================] - 3s 50us/sample - loss: 0.0389 - acc: 0.9885\n",
      "Epoch 17/15000000000000000000\n",
      "60000/60000 [==============================] - 3s 54us/sample - loss: 0.0382 - acc: 0.9888\n",
      "Epoch 18/15000000000000000000\n",
      "60000/60000 [==============================] - 3s 49us/sample - loss: 0.0367 - acc: 0.9890\n",
      "Epoch 19/15000000000000000000\n",
      "60000/60000 [==============================] - 3s 52us/sample - loss: 0.0355 - acc: 0.9899\n",
      "Epoch 20/15000000000000000000\n",
      "13856/60000 [=====>........................] - ETA: 2s - loss: 0.0378 - acc: 0.9885"
     ]
    }
   ],
   "source": [
    "# Compiling the CNN model\n",
    "cnn.compile(optimizer='SGD', loss='sparse_categorical_crossentropy', metrics=['accuracy'])\n",
    "\n",
    "# Training the model with 15 epochs\n",
    "cnn.fit(X_train, Y_train, epochs=15)"
   ]
  },
  {
   "cell_type": "markdown",
   "id": "0250e6d9",
   "metadata": {},
   "source": [
    "# Predicting the output"
   ]
  },
  {
   "cell_type": "code",
   "execution_count": 7,
   "id": "75f1dd8e",
   "metadata": {},
   "outputs": [
    {
     "name": "stdout",
     "output_type": "stream",
     "text": [
      "[7 2 1 ... 4 5 6]\n",
      "[7 2 1 ... 4 5 6]\n"
     ]
    }
   ],
   "source": [
    "Y_prob = cnn.predict(X_test)\n",
    "Y_pred = Y_prob.argmax(axis=1)\n",
    "print(Y_pred)\n",
    "print(Y_test)"
   ]
  },
  {
   "cell_type": "markdown",
   "id": "b5291e35",
   "metadata": {},
   "source": [
    "# Comparing the actual and predicted"
   ]
  },
  {
   "cell_type": "code",
   "execution_count": 8,
   "id": "c316319f",
   "metadata": {},
   "outputs": [
    {
     "data": {
      "text/html": [
       "<div>\n",
       "<style scoped>\n",
       "    .dataframe tbody tr th:only-of-type {\n",
       "        vertical-align: middle;\n",
       "    }\n",
       "\n",
       "    .dataframe tbody tr th {\n",
       "        vertical-align: top;\n",
       "    }\n",
       "\n",
       "    .dataframe thead th {\n",
       "        text-align: right;\n",
       "    }\n",
       "</style>\n",
       "<table border=\"1\" class=\"dataframe\">\n",
       "  <thead>\n",
       "    <tr style=\"text-align: right;\">\n",
       "      <th></th>\n",
       "      <th>Actual</th>\n",
       "      <th>Predicted</th>\n",
       "    </tr>\n",
       "  </thead>\n",
       "  <tbody>\n",
       "    <tr>\n",
       "      <th>0</th>\n",
       "      <td>7</td>\n",
       "      <td>7</td>\n",
       "    </tr>\n",
       "    <tr>\n",
       "      <th>1</th>\n",
       "      <td>2</td>\n",
       "      <td>2</td>\n",
       "    </tr>\n",
       "    <tr>\n",
       "      <th>2</th>\n",
       "      <td>1</td>\n",
       "      <td>1</td>\n",
       "    </tr>\n",
       "    <tr>\n",
       "      <th>3</th>\n",
       "      <td>0</td>\n",
       "      <td>0</td>\n",
       "    </tr>\n",
       "    <tr>\n",
       "      <th>4</th>\n",
       "      <td>4</td>\n",
       "      <td>4</td>\n",
       "    </tr>\n",
       "    <tr>\n",
       "      <th>5</th>\n",
       "      <td>1</td>\n",
       "      <td>1</td>\n",
       "    </tr>\n",
       "    <tr>\n",
       "      <th>6</th>\n",
       "      <td>4</td>\n",
       "      <td>4</td>\n",
       "    </tr>\n",
       "    <tr>\n",
       "      <th>7</th>\n",
       "      <td>9</td>\n",
       "      <td>9</td>\n",
       "    </tr>\n",
       "    <tr>\n",
       "      <th>8</th>\n",
       "      <td>5</td>\n",
       "      <td>5</td>\n",
       "    </tr>\n",
       "    <tr>\n",
       "      <th>9</th>\n",
       "      <td>9</td>\n",
       "      <td>9</td>\n",
       "    </tr>\n",
       "  </tbody>\n",
       "</table>\n",
       "</div>"
      ],
      "text/plain": [
       "   Actual  Predicted\n",
       "0       7          7\n",
       "1       2          2\n",
       "2       1          1\n",
       "3       0          0\n",
       "4       4          4\n",
       "5       1          1\n",
       "6       4          4\n",
       "7       9          9\n",
       "8       5          5\n",
       "9       9          9"
      ]
     },
     "execution_count": 8,
     "metadata": {},
     "output_type": "execute_result"
    }
   ],
   "source": [
    "actual_pred = pd.DataFrame()\n",
    "actual_pred['Actual'] = Y_test\n",
    "actual_pred['Predicted'] = Y_pred\n",
    "actual_pred.head(10)"
   ]
  },
  {
   "cell_type": "code",
   "execution_count": 9,
   "id": "633085e8",
   "metadata": {},
   "outputs": [
    {
     "name": "stdout",
     "output_type": "stream",
     "text": [
      "              precision    recall  f1-score   support\n",
      "\n",
      "           0       0.98      0.99      0.98       980\n",
      "           1       0.99      0.98      0.99      1135\n",
      "           2       0.97      0.98      0.97      1032\n",
      "           3       0.96      0.98      0.97      1010\n",
      "           4       0.98      0.97      0.97       982\n",
      "           5       0.98      0.96      0.97       892\n",
      "           6       0.98      0.97      0.98       958\n",
      "           7       0.98      0.97      0.97      1028\n",
      "           8       0.97      0.97      0.97       974\n",
      "           9       0.95      0.96      0.96      1009\n",
      "\n",
      "    accuracy                           0.97     10000\n",
      "   macro avg       0.97      0.97      0.97     10000\n",
      "weighted avg       0.97      0.97      0.97     10000\n",
      "\n"
     ]
    }
   ],
   "source": [
    "print(classification_report(Y_test, Y_pred))"
   ]
  }
 ],
 "metadata": {
  "kernelspec": {
   "display_name": "Python 3 (ipykernel)",
   "language": "python",
   "name": "python3"
  },
  "language_info": {
   "codemirror_mode": {
    "name": "ipython",
    "version": 3
   },
   "file_extension": ".py",
   "mimetype": "text/x-python",
   "name": "python",
   "nbconvert_exporter": "python",
   "pygments_lexer": "ipython3",
   "version": "3.10.11"
  }
 },
 "nbformat": 4,
 "nbformat_minor": 5
}
