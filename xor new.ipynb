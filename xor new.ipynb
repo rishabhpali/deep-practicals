{
 "cells": [
  {
   "cell_type": "code",
   "execution_count": 2,
   "id": "d92747f5",
   "metadata": {},
   "outputs": [
    {
     "name": "stdout",
     "output_type": "stream",
     "text": [
      "Iteration: 0. Error: 0.5006490576767629\n",
      "Iteration: 1000. Error: 0.458459481887301\n",
      "Iteration: 2000. Error: 0.41182105529493906\n",
      "Iteration: 3000. Error: 0.3778387275703056\n",
      "Iteration: 4000. Error: 0.3382222651942177\n",
      "Iteration: 5000. Error: 0.18618365822409838\n",
      "Iteration: 6000. Error: 0.0739651935109231\n",
      "Iteration: 7000. Error: 0.0407963091006595\n",
      "Iteration: 8000. Error: 0.027293253599374283\n",
      "Iteration: 9000. Error: 0.020257060372497762\n",
      "Iteration: 10000. Error: 0.016007756591969496\n",
      "Iteration: 11000. Error: 0.01318590393486628\n",
      "Iteration: 12000. Error: 0.011184947845833345\n",
      "Iteration: 13000. Error: 0.009696572941747701\n",
      "Iteration: 14000. Error: 0.008548501770161665\n",
      "Training Complete.\n",
      "Percentages: \n",
      "[[0.99325427]\n",
      " [0.9909019 ]\n",
      " [0.0035753 ]\n",
      " [0.01113015]]\n",
      "Predictions: \n",
      "[[1.]\n",
      " [1.]\n",
      " [0.]\n",
      " [0.]]\n"
     ]
    },
    {
     "data": {
      "image/png": "[encoded data removed]",
      "text/plain": [
       "<Figure size 640x480 with 1 Axes>"
      ]
     },
     "metadata": {},
     "output_type": "display_data"
    }
   ],
   "source": [
    "import tensorflow as tf\n",
    "from tensorflow import keras\n",
    "import numpy as np\n",
    "import matplotlib.pyplot as plt\n",
    "\n",
    "def sigmoid(x):\n",
    "    return 1 / (1 + np.exp(-x))\n",
    "\n",
    "def sigmoid_deriv(x):\n",
    "    return sigmoid(x)*(1-sigmoid(x))\n",
    "\n",
    "def forward(x, w1, w2, predict=False):\n",
    "    a1 = np.dot(x, w1)\n",
    "    z1 = sigmoid(a1)\n",
    "    bias = np.ones((len(z1), 1))\n",
    "    z1 = np.concatenate((bias, z1), axis=1)\n",
    "    a2 = np.dot(z1, w2)\n",
    "    z2 = sigmoid(a2)\n",
    "    if predict:\n",
    "        return z2\n",
    "    return a1, z1, a2, z2\n",
    "\n",
    "def backprop(a2, z0, z1, z2, y):\n",
    "\n",
    "    delta2 = z2 - y\n",
    "    Delta2 = np.matmul(z1.T, delta2)\n",
    "    delta1 = (delta2.dot(w2[1:,:].T))*sigmoid_deriv(a1)\n",
    "    Delta1 = np.matmul(z0.T, delta1)\n",
    "    return delta2, Delta1, Delta2\n",
    "\n",
    "X = np.array([[1, 1, 0],\n",
    "              [1, 0, 1],\n",
    "              [1, 0, 0],\n",
    "              [1, 1, 1]])\n",
    "y = np.array([[1], [1], [0], [0]])\n",
    "\n",
    "w1 = np.random.randn(3, 5)\n",
    "w2 = np.random.randn(6, 1)\n",
    "\n",
    "lr = 0.09\n",
    "\n",
    "costs = []\n",
    "\n",
    "epochs =15000\n",
    "\n",
    "m = len(X)\n",
    "for i in range (epochs):\n",
    "\n",
    "    # Forward \n",
    "    a1, z1, a2, z2 = forward(X, w1, w2)\n",
    "\n",
    "    # Backprop\n",
    "    delta2, Delta1, Delta2 = backprop(a2, X, z1, z2, y)\n",
    "\n",
    "    w1 -= lr*(1/m)*Delta1\n",
    "    w2 -= lr*(1/m)*Delta2\n",
    "    c = np.mean(np.abs(delta2))\n",
    "    costs.append(c)\n",
    "\n",
    "    if i % 1000 == 0:\n",
    "       print(f\"Iteration: {i}. Error: {c}\" )\n",
    "\n",
    "print(\"Training Complete.\")\n",
    "\n",
    "z3 = forward(X, w1, w2, True)\n",
    "print(\"Percentages: \")\n",
    "print(z3)\n",
    "print(\"Predictions: \")\n",
    "print(np.round(z3))\n",
    "\n",
    "plt.plot(costs)\n",
    "plt.show()"
   ]
  }
 ],
 "metadata": {
  "kernelspec": {
   "display_name": "Python [conda env:gpu]",
   "language": "python",
   "name": "conda-env-gpu-py"
  },
  "language_info": {
   "codemirror_mode": {
    "name": "ipython",
    "version": 3
   },
   "file_extension": ".py",
   "mimetype": "text/x-python",
   "name": "python",
   "nbconvert_exporter": "python",
   "pygments_lexer": "ipython3",
   "version": "3.7.16"
  }
 },
 "nbformat": 4,
 "nbformat_minor": 5
}
